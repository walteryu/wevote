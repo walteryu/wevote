{
 "cells": [
  {
   "cell_type": "markdown",
   "metadata": {},
   "source": [
    "# GSWSR WeVote Project\n",
    "\n",
    "## Preventing Project Delays and Lawsuits\n",
    "\n",
    "### Abstract\n",
    "\n",
    "\n",
    "### Introduction\n",
    "\n",
    "This study outlines the data, methods and results used to identify commute patterns. Specifically, it seeks to answer the following questions:\n",
    "\n",
    "### Tools and Process\n",
    "\n",
    "The tools and process listed below were used to analyze data and provide recommendations:\n",
    "\n",
    "1. Jupyter Notebook - Exploratory data analysis and visualization were completed using this notebook.\n",
    "2. Python Modules - The modules listed below will need to be installed in order to run this notebook:\n",
    "\n",
    "  * Pandas\n",
    "  * NumPy\n",
    "  * SciPy\n",
    "  * Seaborn\n",
    "  * Matplotlib\n",
    "  * StatsModels\n",
    "  * Scikit-Learn\n"
   ]
  },
  {
   "cell_type": "markdown",
   "metadata": {},
   "source": [
    "### Data Cleaning and Preparation\n",
    "\n",
    "Data cleaning was completed prior to analysis; as a result, the datasets were cleaned to minimize the impact of outlier, missing or repeated values as follows:\n",
    "\n",
    "1. Replaced empty and missing values since they may cause errors during analysis.\n",
    "2. Removed negative values since they may skew summary statistics and results.\n",
    "3. Removed outlier values by removing values greater or less than 3 standard deviations from the mean since they will skew results. Specifically, outlier values will skew summary statistics such as the mean, median and standard deviation.\n",
    "\n",
    "After data cleaning, the household, trip and vehicle tables were sorted by census district to begin the analysis."
   ]
  },
  {
   "cell_type": "code",
   "execution_count": 1,
   "metadata": {},
   "outputs": [
    {
     "ename": "ModuleNotFoundError",
     "evalue": "No module named 'pandas'",
     "output_type": "error",
     "traceback": [
      "\u001b[0;31m---------------------------------------------------------------------------\u001b[0m",
      "\u001b[0;31mModuleNotFoundError\u001b[0m                       Traceback (most recent call last)",
      "\u001b[0;32m<ipython-input-1-53df1788ac74>\u001b[0m in \u001b[0;36m<module>\u001b[0;34m\u001b[0m\n\u001b[1;32m      1\u001b[0m \u001b[0;32mimport\u001b[0m \u001b[0mcsv\u001b[0m\u001b[0;34m\u001b[0m\u001b[0m\n\u001b[0;32m----> 2\u001b[0;31m \u001b[0;32mimport\u001b[0m \u001b[0mpandas\u001b[0m \u001b[0;32mas\u001b[0m \u001b[0mpd\u001b[0m\u001b[0;34m\u001b[0m\u001b[0m\n\u001b[0m\u001b[1;32m      3\u001b[0m \u001b[0;32mimport\u001b[0m \u001b[0mnumpy\u001b[0m \u001b[0;32mas\u001b[0m \u001b[0mnp\u001b[0m\u001b[0;34m\u001b[0m\u001b[0m\n\u001b[1;32m      4\u001b[0m \u001b[0;32mimport\u001b[0m \u001b[0mscipy\u001b[0m\u001b[0;34m\u001b[0m\u001b[0m\n\u001b[1;32m      5\u001b[0m \u001b[0;32mfrom\u001b[0m \u001b[0mscipy\u001b[0m \u001b[0;32mimport\u001b[0m \u001b[0mstats\u001b[0m\u001b[0;34m\u001b[0m\u001b[0m\n",
      "\u001b[0;31mModuleNotFoundError\u001b[0m: No module named 'pandas'"
     ]
    }
   ],
   "source": [
    "import csv\n",
    "import pandas as pd\n",
    "import numpy as np\n",
    "import scipy\n",
    "from scipy import stats\n",
    "pd.options.mode.chained_assignment = None\n",
    "\n",
    "# Plotting packages; documentation consulted for examples:\n",
    "# Reference: https://seaborn.pydata.org/examples/index.html\n",
    "import seaborn as sns\n",
    "import matplotlib.pyplot as plt\n",
    "plt.rcParams['figure.figsize'] = (15.0, 7.5)\n",
    "\n",
    "# Statistics packages\n",
    "import statsmodels\n",
    "from statsmodels.formula.api import ols\n",
    "\n",
    "# Image import packages\n",
    "from IPython.display import Image\n",
    "from IPython.core.display import HTML\n",
    "\n",
    "print('Script done running!')"
   ]
  }
 ],
 "metadata": {
  "kernelspec": {
   "display_name": "Python 3",
   "language": "python",
   "name": "python3"
  },
  "language_info": {
   "codemirror_mode": {
    "name": "ipython",
    "version": 3
   },
   "file_extension": ".py",
   "mimetype": "text/x-python",
   "name": "python",
   "nbconvert_exporter": "python",
   "pygments_lexer": "ipython3",
   "version": "3.6.6"
  }
 },
 "nbformat": 4,
 "nbformat_minor": 2
}
