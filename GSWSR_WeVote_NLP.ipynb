{
 "cells": [
  {
   "cell_type": "markdown",
   "metadata": {},
   "source": [
    "# GSWSR WeVote Project\n",
    "\n",
    "## Preventing Project Delays and Lawsuits\n",
    "\n",
    "### Abstract\n",
    "\n",
    "\n",
    "### Introduction\n",
    "\n",
    "This study outlines the data, methods and results used to identify commute patterns. Specifically, it seeks to answer the following questions:\n",
    "\n",
    "### Tools and Process\n",
    "\n",
    "The tools and process listed below were used to analyze data and provide recommendations:\n",
    "\n",
    "1. Jupyter Notebook - Exploratory data analysis and visualization were completed using this notebook.\n",
    "2. Python Modules - The modules listed below will need to be installed in order to run this notebook:\n",
    "\n",
    "  * Pandas\n",
    "  * NumPy\n",
    "  * SciPy\n",
    "  * Seaborn\n",
    "  * Matplotlib\n",
    "  * StatsModels\n",
    "  * Scikit-Learn\n"
   ]
  },
  {
   "cell_type": "markdown",
   "metadata": {},
   "source": [
    "### Data Cleaning and Preparation\n",
    "\n",
    "Data cleaning was completed prior to analysis; as a result, the datasets were cleaned to minimize the impact of outlier, missing or repeated values as follows:\n",
    "\n",
    "1. Replaced empty and missing values since they may cause errors during analysis.\n",
    "2. Removed negative values since they may skew summary statistics and results.\n",
    "3. Removed outlier values by removing values greater or less than 3 standard deviations from the mean since they will skew results. Specifically, outlier values will skew summary statistics such as the mean, median and standard deviation.\n",
    "\n",
    "After data cleaning, the household, trip and vehicle tables were sorted by census district to begin the analysis."
   ]
  },
  {
   "cell_type": "code",
   "execution_count": 4,
   "metadata": {},
   "outputs": [
    {
     "name": "stdout",
     "output_type": "stream",
     "text": [
      "The phone is super cool.---------------- {'neg': 0.0, 'neu': 0.326, 'pos': 0.674, 'compound': 0.7351}\n"
     ]
    },
    {
     "ename": "NameError",
     "evalue": "name 'pd' is not defined",
     "output_type": "error",
     "traceback": [
      "\u001b[0;31m---------------------------------------------------------------------------\u001b[0m",
      "\u001b[0;31mNameError\u001b[0m                                 Traceback (most recent call last)",
      "\u001b[0;32m<ipython-input-4-32c0602fa4f0>\u001b[0m in \u001b[0;36m<module>\u001b[0;34m\u001b[0m\n\u001b[1;32m     29\u001b[0m \u001b[0msentiment_analyzer_scores\u001b[0m\u001b[0;34m(\u001b[0m\u001b[0;34m\"The phone is super cool.\"\u001b[0m\u001b[0;34m)\u001b[0m\u001b[0;34m\u001b[0m\u001b[0m\n\u001b[1;32m     30\u001b[0m \u001b[0;34m\u001b[0m\u001b[0m\n\u001b[0;32m---> 31\u001b[0;31m \u001b[0mvotes\u001b[0m \u001b[0;34m=\u001b[0m \u001b[0mpd\u001b[0m\u001b[0;34m.\u001b[0m\u001b[0mDataFrame\u001b[0m\u001b[0;34m.\u001b[0m\u001b[0mfrom_csv\u001b[0m\u001b[0;34m(\u001b[0m\u001b[0;34m'./data/mock-data-05.csv'\u001b[0m\u001b[0;34m,\u001b[0m \u001b[0mindex_col\u001b[0m\u001b[0;34m=\u001b[0m\u001b[0;32mNone\u001b[0m\u001b[0;34m)\u001b[0m\u001b[0;34m\u001b[0m\u001b[0m\n\u001b[0m\u001b[1;32m     32\u001b[0m \u001b[0;34m\u001b[0m\u001b[0m\n\u001b[1;32m     33\u001b[0m \u001b[0mvotes\u001b[0m\u001b[0;34m.\u001b[0m\u001b[0mhead\u001b[0m\u001b[0;34m(\u001b[0m\u001b[0;34m)\u001b[0m\u001b[0;34m\u001b[0m\u001b[0m\n",
      "\u001b[0;31mNameError\u001b[0m: name 'pd' is not defined"
     ]
    }
   ],
   "source": [
    "import csv\n",
    "import vaderSentiment\n",
    "# import pandas as pd\n",
    "# import numpy as np\n",
    "# import scipy\n",
    "# from scipy import stats\n",
    "# pd.options.mode.chained_assignment = None\n",
    "\n",
    "# Plotting packages; documentation consulted for examples:\n",
    "# Reference: https://seaborn.pydata.org/examples/index.html\n",
    "# import seaborn as sns\n",
    "# import matplotlib.pyplot as plt\n",
    "# plt.rcParams['figure.figsize'] = (15.0, 7.5)\n",
    "\n",
    "# Statistics packages\n",
    "# import statsmodels\n",
    "# from statsmodels.formula.api import ols\n",
    "\n",
    "# Reference: NLP tutorial with Python Vader package\n",
    "# https://medium.com/analytics-vidhya/simplifying-social-media-sentiment-analysis-using-vader-in-python-f9e6ec6fc52f\n",
    "\n",
    "from vaderSentiment.vaderSentiment import SentimentIntensityAnalyzer\n",
    "analyser = SentimentIntensityAnalyzer()\n",
    "\n",
    "def sentiment_analyzer_scores(sentence):\n",
    "    score = analyser.polarity_scores(sentence)\n",
    "    print(\"{:-<40} {}\".format(sentence, str(score)))\n",
    "\n",
    "sentiment_analyzer_scores(\"The phone is super cool.\")\n",
    "\n",
    "votes = pd.DataFrame.from_csv('./data/mock-data-05.csv', index_col=None)\n",
    "\n",
    "votes.head()\n"
   ]
  }
 ],
 "metadata": {
  "kernelspec": {
   "display_name": "Python 3",
   "language": "python",
   "name": "python3"
  },
  "language_info": {
   "codemirror_mode": {
    "name": "ipython",
    "version": 3
   },
   "file_extension": ".py",
   "mimetype": "text/x-python",
   "name": "python",
   "nbconvert_exporter": "python",
   "pygments_lexer": "ipython3",
   "version": "3.6.6"
  }
 },
 "nbformat": 4,
 "nbformat_minor": 2
}
